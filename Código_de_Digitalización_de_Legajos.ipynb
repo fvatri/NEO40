{
  "cells": [
    {
      "cell_type": "markdown",
      "metadata": {
        "id": "view-in-github",
        "colab_type": "text"
      },
      "source": [
        "<a href=\"https://colab.research.google.com/github/fvatri/NEO40/blob/main/C%C3%B3digo_de_Digitalizaci%C3%B3n_de_Legajos.ipynb\" target=\"_parent\"><img src=\"https://colab.research.google.com/assets/colab-badge.svg\" alt=\"Open In Colab\"/></a>"
      ]
    },
    {
      "cell_type": "markdown",
      "metadata": {
        "id": "ddoKeThLfuuw"
      },
      "source": [
        "# Ejecución Inicial (siempre al iniciar Colab)"
      ]
    },
    {
      "cell_type": "markdown",
      "metadata": {
        "id": "JkRdwlplYrd-"
      },
      "source": [
        "conecta con Drive"
      ]
    },
    {
      "cell_type": "code",
      "execution_count": null,
      "metadata": {
        "colab": {
          "base_uri": "https://localhost:8080/"
        },
        "id": "D9-fl_IZe1wk",
        "outputId": "b1afde1d-046e-4740-c674-c61dfb068aac"
      },
      "outputs": [
        {
          "output_type": "stream",
          "name": "stdout",
          "text": [
            "Drive already mounted at /content/drive; to attempt to forcibly remount, call drive.mount(\"/content/drive\", force_remount=True).\n"
          ]
        }
      ],
      "source": [
        "\n",
        "from google.colab import drive\n",
        "drive.mount('/content/drive')\n",
        "auth.authenticate_user()\n",
        "drive_service = build('drive', 'v3')\n",
        "#gauth = GoogleAuth()\n",
        "#gauth.LocalWebserverAuth()\n",
        "#drive = GoogleDrive(gauth)"
      ]
    },
    {
      "cell_type": "markdown",
      "source": [
        "Objeto Legajo"
      ],
      "metadata": {
        "id": "k3jJUv-u5XA7"
      }
    },
    {
      "cell_type": "code",
      "source": [
        "# Inicializando el diccionario\n",
        "legajo = {\n",
        "    \"Número de Serie\": None,\n",
        "    \"Modelo\": None,\n",
        "    \"Fecha de Prueba\": None,\n",
        "    \"URL del PDF original\": None\n",
        "}"
      ],
      "metadata": {
        "id": "vboIuhBl5czN"
      },
      "execution_count": null,
      "outputs": []
    },
    {
      "cell_type": "markdown",
      "metadata": {
        "id": "UtTRwB4MYnJD"
      },
      "source": [
        "instala lo necesario"
      ]
    },
    {
      "cell_type": "code",
      "execution_count": null,
      "metadata": {
        "id": "3p8FuBPaYmC4",
        "colab": {
          "base_uri": "https://localhost:8080/"
        },
        "outputId": "9972f5dd-e049-4b50-b2a4-518eee3feb98"
      },
      "outputs": [
        {
          "output_type": "stream",
          "name": "stdout",
          "text": [
            "Requirement already satisfied: gspread in /usr/local/lib/python3.10/dist-packages (6.0.2)\n",
            "Requirement already satisfied: oauth2client in /usr/local/lib/python3.10/dist-packages (4.1.3)\n",
            "Requirement already satisfied: google-auth>=1.12.0 in /usr/local/lib/python3.10/dist-packages (from gspread) (2.27.0)\n",
            "Requirement already satisfied: google-auth-oauthlib>=0.4.1 in /usr/local/lib/python3.10/dist-packages (from gspread) (1.2.1)\n",
            "Requirement already satisfied: StrEnum==0.4.15 in /usr/local/lib/python3.10/dist-packages (from gspread) (0.4.15)\n",
            "Requirement already satisfied: httplib2>=0.9.1 in /usr/local/lib/python3.10/dist-packages (from oauth2client) (0.22.0)\n",
            "Requirement already satisfied: pyasn1>=0.1.7 in /usr/local/lib/python3.10/dist-packages (from oauth2client) (0.6.1)\n",
            "Requirement already satisfied: pyasn1-modules>=0.0.5 in /usr/local/lib/python3.10/dist-packages (from oauth2client) (0.4.1)\n",
            "Requirement already satisfied: rsa>=3.1.4 in /usr/local/lib/python3.10/dist-packages (from oauth2client) (4.9)\n",
            "Requirement already satisfied: six>=1.6.1 in /usr/local/lib/python3.10/dist-packages (from oauth2client) (1.16.0)\n",
            "Requirement already satisfied: cachetools<6.0,>=2.0.0 in /usr/local/lib/python3.10/dist-packages (from google-auth>=1.12.0->gspread) (5.5.0)\n",
            "Requirement already satisfied: requests-oauthlib>=0.7.0 in /usr/local/lib/python3.10/dist-packages (from google-auth-oauthlib>=0.4.1->gspread) (1.3.1)\n",
            "Requirement already satisfied: pyparsing!=3.0.0,!=3.0.1,!=3.0.2,!=3.0.3,<4,>=2.4.2 in /usr/local/lib/python3.10/dist-packages (from httplib2>=0.9.1->oauth2client) (3.2.0)\n",
            "Requirement already satisfied: oauthlib>=3.0.0 in /usr/local/lib/python3.10/dist-packages (from requests-oauthlib>=0.7.0->google-auth-oauthlib>=0.4.1->gspread) (3.2.2)\n",
            "Requirement already satisfied: requests>=2.0.0 in /usr/local/lib/python3.10/dist-packages (from requests-oauthlib>=0.7.0->google-auth-oauthlib>=0.4.1->gspread) (2.32.3)\n",
            "Requirement already satisfied: charset-normalizer<4,>=2 in /usr/local/lib/python3.10/dist-packages (from requests>=2.0.0->requests-oauthlib>=0.7.0->google-auth-oauthlib>=0.4.1->gspread) (3.4.0)\n",
            "Requirement already satisfied: idna<4,>=2.5 in /usr/local/lib/python3.10/dist-packages (from requests>=2.0.0->requests-oauthlib>=0.7.0->google-auth-oauthlib>=0.4.1->gspread) (3.10)\n",
            "Requirement already satisfied: urllib3<3,>=1.21.1 in /usr/local/lib/python3.10/dist-packages (from requests>=2.0.0->requests-oauthlib>=0.7.0->google-auth-oauthlib>=0.4.1->gspread) (2.2.3)\n",
            "Requirement already satisfied: certifi>=2017.4.17 in /usr/local/lib/python3.10/dist-packages (from requests>=2.0.0->requests-oauthlib>=0.7.0->google-auth-oauthlib>=0.4.1->gspread) (2024.8.30)\n",
            "Requirement already satisfied: PyDrive2 in /usr/local/lib/python3.10/dist-packages (1.20.0)\n",
            "Requirement already satisfied: google-api-python-client>=1.12.5 in /usr/local/lib/python3.10/dist-packages (from PyDrive2) (2.137.0)\n",
            "Requirement already satisfied: oauth2client>=4.0.0 in /usr/local/lib/python3.10/dist-packages (from PyDrive2) (4.1.3)\n",
            "Requirement already satisfied: PyYAML>=3.0 in /usr/local/lib/python3.10/dist-packages (from PyDrive2) (6.0.2)\n",
            "Requirement already satisfied: pyOpenSSL>=19.1.0 in /usr/local/lib/python3.10/dist-packages (from PyDrive2) (24.2.1)\n",
            "Requirement already satisfied: httplib2<1.dev0,>=0.19.0 in /usr/local/lib/python3.10/dist-packages (from google-api-python-client>=1.12.5->PyDrive2) (0.22.0)\n",
            "Requirement already satisfied: google-auth!=2.24.0,!=2.25.0,<3.0.0.dev0,>=1.32.0 in /usr/local/lib/python3.10/dist-packages (from google-api-python-client>=1.12.5->PyDrive2) (2.27.0)\n",
            "Requirement already satisfied: google-auth-httplib2<1.0.0,>=0.2.0 in /usr/local/lib/python3.10/dist-packages (from google-api-python-client>=1.12.5->PyDrive2) (0.2.0)\n",
            "Requirement already satisfied: google-api-core!=2.0.*,!=2.1.*,!=2.2.*,!=2.3.0,<3.0.0.dev0,>=1.31.5 in /usr/local/lib/python3.10/dist-packages (from google-api-python-client>=1.12.5->PyDrive2) (2.19.2)\n",
            "Requirement already satisfied: uritemplate<5,>=3.0.1 in /usr/local/lib/python3.10/dist-packages (from google-api-python-client>=1.12.5->PyDrive2) (4.1.1)\n",
            "Requirement already satisfied: pyasn1>=0.1.7 in /usr/local/lib/python3.10/dist-packages (from oauth2client>=4.0.0->PyDrive2) (0.6.1)\n",
            "Requirement already satisfied: pyasn1-modules>=0.0.5 in /usr/local/lib/python3.10/dist-packages (from oauth2client>=4.0.0->PyDrive2) (0.4.1)\n",
            "Requirement already satisfied: rsa>=3.1.4 in /usr/local/lib/python3.10/dist-packages (from oauth2client>=4.0.0->PyDrive2) (4.9)\n",
            "Requirement already satisfied: six>=1.6.1 in /usr/local/lib/python3.10/dist-packages (from oauth2client>=4.0.0->PyDrive2) (1.16.0)\n",
            "Requirement already satisfied: cryptography<44,>=41.0.5 in /usr/local/lib/python3.10/dist-packages (from pyOpenSSL>=19.1.0->PyDrive2) (43.0.3)\n",
            "Requirement already satisfied: cffi>=1.12 in /usr/local/lib/python3.10/dist-packages (from cryptography<44,>=41.0.5->pyOpenSSL>=19.1.0->PyDrive2) (1.17.1)\n",
            "Requirement already satisfied: googleapis-common-protos<2.0.dev0,>=1.56.2 in /usr/local/lib/python3.10/dist-packages (from google-api-core!=2.0.*,!=2.1.*,!=2.2.*,!=2.3.0,<3.0.0.dev0,>=1.31.5->google-api-python-client>=1.12.5->PyDrive2) (1.65.0)\n",
            "Requirement already satisfied: protobuf!=3.20.0,!=3.20.1,!=4.21.0,!=4.21.1,!=4.21.2,!=4.21.3,!=4.21.4,!=4.21.5,<6.0.0.dev0,>=3.19.5 in /usr/local/lib/python3.10/dist-packages (from google-api-core!=2.0.*,!=2.1.*,!=2.2.*,!=2.3.0,<3.0.0.dev0,>=1.31.5->google-api-python-client>=1.12.5->PyDrive2) (3.20.3)\n",
            "Requirement already satisfied: proto-plus<2.0.0dev,>=1.22.3 in /usr/local/lib/python3.10/dist-packages (from google-api-core!=2.0.*,!=2.1.*,!=2.2.*,!=2.3.0,<3.0.0.dev0,>=1.31.5->google-api-python-client>=1.12.5->PyDrive2) (1.25.0)\n",
            "Requirement already satisfied: requests<3.0.0.dev0,>=2.18.0 in /usr/local/lib/python3.10/dist-packages (from google-api-core!=2.0.*,!=2.1.*,!=2.2.*,!=2.3.0,<3.0.0.dev0,>=1.31.5->google-api-python-client>=1.12.5->PyDrive2) (2.32.3)\n",
            "Requirement already satisfied: cachetools<6.0,>=2.0.0 in /usr/local/lib/python3.10/dist-packages (from google-auth!=2.24.0,!=2.25.0,<3.0.0.dev0,>=1.32.0->google-api-python-client>=1.12.5->PyDrive2) (5.5.0)\n",
            "Requirement already satisfied: pyparsing!=3.0.0,!=3.0.1,!=3.0.2,!=3.0.3,<4,>=2.4.2 in /usr/local/lib/python3.10/dist-packages (from httplib2<1.dev0,>=0.19.0->google-api-python-client>=1.12.5->PyDrive2) (3.2.0)\n",
            "Requirement already satisfied: pycparser in /usr/local/lib/python3.10/dist-packages (from cffi>=1.12->cryptography<44,>=41.0.5->pyOpenSSL>=19.1.0->PyDrive2) (2.22)\n",
            "Requirement already satisfied: charset-normalizer<4,>=2 in /usr/local/lib/python3.10/dist-packages (from requests<3.0.0.dev0,>=2.18.0->google-api-core!=2.0.*,!=2.1.*,!=2.2.*,!=2.3.0,<3.0.0.dev0,>=1.31.5->google-api-python-client>=1.12.5->PyDrive2) (3.4.0)\n",
            "Requirement already satisfied: idna<4,>=2.5 in /usr/local/lib/python3.10/dist-packages (from requests<3.0.0.dev0,>=2.18.0->google-api-core!=2.0.*,!=2.1.*,!=2.2.*,!=2.3.0,<3.0.0.dev0,>=1.31.5->google-api-python-client>=1.12.5->PyDrive2) (3.10)\n",
            "Requirement already satisfied: urllib3<3,>=1.21.1 in /usr/local/lib/python3.10/dist-packages (from requests<3.0.0.dev0,>=2.18.0->google-api-core!=2.0.*,!=2.1.*,!=2.2.*,!=2.3.0,<3.0.0.dev0,>=1.31.5->google-api-python-client>=1.12.5->PyDrive2) (2.2.3)\n",
            "Requirement already satisfied: certifi>=2017.4.17 in /usr/local/lib/python3.10/dist-packages (from requests<3.0.0.dev0,>=2.18.0->google-api-core!=2.0.*,!=2.1.*,!=2.2.*,!=2.3.0,<3.0.0.dev0,>=1.31.5->google-api-python-client>=1.12.5->PyDrive2) (2024.8.30)\n",
            "Collecting es-core-news-sm==3.7.0\n",
            "  Downloading https://github.com/explosion/spacy-models/releases/download/es_core_news_sm-3.7.0/es_core_news_sm-3.7.0-py3-none-any.whl (12.9 MB)\n",
            "\u001b[2K     \u001b[90m━━━━━━━━━━━━━━━━━━━━━━━━━━━━━━━━━━━━━━━━\u001b[0m \u001b[32m12.9/12.9 MB\u001b[0m \u001b[31m63.4 MB/s\u001b[0m eta \u001b[36m0:00:00\u001b[0m\n",
            "\u001b[?25hRequirement already satisfied: spacy<3.8.0,>=3.7.0 in /usr/local/lib/python3.10/dist-packages (from es-core-news-sm==3.7.0) (3.7.5)\n",
            "Requirement already satisfied: spacy-legacy<3.1.0,>=3.0.11 in /usr/local/lib/python3.10/dist-packages (from spacy<3.8.0,>=3.7.0->es-core-news-sm==3.7.0) (3.0.12)\n",
            "Requirement already satisfied: spacy-loggers<2.0.0,>=1.0.0 in /usr/local/lib/python3.10/dist-packages (from spacy<3.8.0,>=3.7.0->es-core-news-sm==3.7.0) (1.0.5)\n",
            "Requirement already satisfied: murmurhash<1.1.0,>=0.28.0 in /usr/local/lib/python3.10/dist-packages (from spacy<3.8.0,>=3.7.0->es-core-news-sm==3.7.0) (1.0.10)\n",
            "Requirement already satisfied: cymem<2.1.0,>=2.0.2 in /usr/local/lib/python3.10/dist-packages (from spacy<3.8.0,>=3.7.0->es-core-news-sm==3.7.0) (2.0.8)\n",
            "Requirement already satisfied: preshed<3.1.0,>=3.0.2 in /usr/local/lib/python3.10/dist-packages (from spacy<3.8.0,>=3.7.0->es-core-news-sm==3.7.0) (3.0.9)\n",
            "Requirement already satisfied: thinc<8.3.0,>=8.2.2 in /usr/local/lib/python3.10/dist-packages (from spacy<3.8.0,>=3.7.0->es-core-news-sm==3.7.0) (8.2.5)\n",
            "Requirement already satisfied: wasabi<1.2.0,>=0.9.1 in /usr/local/lib/python3.10/dist-packages (from spacy<3.8.0,>=3.7.0->es-core-news-sm==3.7.0) (1.1.3)\n",
            "Requirement already satisfied: srsly<3.0.0,>=2.4.3 in /usr/local/lib/python3.10/dist-packages (from spacy<3.8.0,>=3.7.0->es-core-news-sm==3.7.0) (2.4.8)\n",
            "Requirement already satisfied: catalogue<2.1.0,>=2.0.6 in /usr/local/lib/python3.10/dist-packages (from spacy<3.8.0,>=3.7.0->es-core-news-sm==3.7.0) (2.0.10)\n",
            "Requirement already satisfied: weasel<0.5.0,>=0.1.0 in /usr/local/lib/python3.10/dist-packages (from spacy<3.8.0,>=3.7.0->es-core-news-sm==3.7.0) (0.4.1)\n",
            "Requirement already satisfied: typer<1.0.0,>=0.3.0 in /usr/local/lib/python3.10/dist-packages (from spacy<3.8.0,>=3.7.0->es-core-news-sm==3.7.0) (0.12.5)\n",
            "Requirement already satisfied: tqdm<5.0.0,>=4.38.0 in /usr/local/lib/python3.10/dist-packages (from spacy<3.8.0,>=3.7.0->es-core-news-sm==3.7.0) (4.66.6)\n",
            "Requirement already satisfied: requests<3.0.0,>=2.13.0 in /usr/local/lib/python3.10/dist-packages (from spacy<3.8.0,>=3.7.0->es-core-news-sm==3.7.0) (2.32.3)\n",
            "Requirement already satisfied: pydantic!=1.8,!=1.8.1,<3.0.0,>=1.7.4 in /usr/local/lib/python3.10/dist-packages (from spacy<3.8.0,>=3.7.0->es-core-news-sm==3.7.0) (2.9.2)\n",
            "Requirement already satisfied: jinja2 in /usr/local/lib/python3.10/dist-packages (from spacy<3.8.0,>=3.7.0->es-core-news-sm==3.7.0) (3.1.4)\n",
            "Requirement already satisfied: setuptools in /usr/local/lib/python3.10/dist-packages (from spacy<3.8.0,>=3.7.0->es-core-news-sm==3.7.0) (75.1.0)\n",
            "Requirement already satisfied: packaging>=20.0 in /usr/local/lib/python3.10/dist-packages (from spacy<3.8.0,>=3.7.0->es-core-news-sm==3.7.0) (24.1)\n",
            "Requirement already satisfied: langcodes<4.0.0,>=3.2.0 in /usr/local/lib/python3.10/dist-packages (from spacy<3.8.0,>=3.7.0->es-core-news-sm==3.7.0) (3.4.1)\n",
            "Requirement already satisfied: numpy>=1.19.0 in /usr/local/lib/python3.10/dist-packages (from spacy<3.8.0,>=3.7.0->es-core-news-sm==3.7.0) (1.26.4)\n",
            "Requirement already satisfied: language-data>=1.2 in /usr/local/lib/python3.10/dist-packages (from langcodes<4.0.0,>=3.2.0->spacy<3.8.0,>=3.7.0->es-core-news-sm==3.7.0) (1.2.0)\n",
            "Requirement already satisfied: annotated-types>=0.6.0 in /usr/local/lib/python3.10/dist-packages (from pydantic!=1.8,!=1.8.1,<3.0.0,>=1.7.4->spacy<3.8.0,>=3.7.0->es-core-news-sm==3.7.0) (0.7.0)\n",
            "Requirement already satisfied: pydantic-core==2.23.4 in /usr/local/lib/python3.10/dist-packages (from pydantic!=1.8,!=1.8.1,<3.0.0,>=1.7.4->spacy<3.8.0,>=3.7.0->es-core-news-sm==3.7.0) (2.23.4)\n",
            "Requirement already satisfied: typing-extensions>=4.6.1 in /usr/local/lib/python3.10/dist-packages (from pydantic!=1.8,!=1.8.1,<3.0.0,>=1.7.4->spacy<3.8.0,>=3.7.0->es-core-news-sm==3.7.0) (4.12.2)\n",
            "Requirement already satisfied: charset-normalizer<4,>=2 in /usr/local/lib/python3.10/dist-packages (from requests<3.0.0,>=2.13.0->spacy<3.8.0,>=3.7.0->es-core-news-sm==3.7.0) (3.4.0)\n",
            "Requirement already satisfied: idna<4,>=2.5 in /usr/local/lib/python3.10/dist-packages (from requests<3.0.0,>=2.13.0->spacy<3.8.0,>=3.7.0->es-core-news-sm==3.7.0) (3.10)\n",
            "Requirement already satisfied: urllib3<3,>=1.21.1 in /usr/local/lib/python3.10/dist-packages (from requests<3.0.0,>=2.13.0->spacy<3.8.0,>=3.7.0->es-core-news-sm==3.7.0) (2.2.3)\n",
            "Requirement already satisfied: certifi>=2017.4.17 in /usr/local/lib/python3.10/dist-packages (from requests<3.0.0,>=2.13.0->spacy<3.8.0,>=3.7.0->es-core-news-sm==3.7.0) (2024.8.30)\n",
            "Requirement already satisfied: blis<0.8.0,>=0.7.8 in /usr/local/lib/python3.10/dist-packages (from thinc<8.3.0,>=8.2.2->spacy<3.8.0,>=3.7.0->es-core-news-sm==3.7.0) (0.7.11)\n",
            "Requirement already satisfied: confection<1.0.0,>=0.0.1 in /usr/local/lib/python3.10/dist-packages (from thinc<8.3.0,>=8.2.2->spacy<3.8.0,>=3.7.0->es-core-news-sm==3.7.0) (0.1.5)\n",
            "Requirement already satisfied: click>=8.0.0 in /usr/local/lib/python3.10/dist-packages (from typer<1.0.0,>=0.3.0->spacy<3.8.0,>=3.7.0->es-core-news-sm==3.7.0) (8.1.7)\n",
            "Requirement already satisfied: shellingham>=1.3.0 in /usr/local/lib/python3.10/dist-packages (from typer<1.0.0,>=0.3.0->spacy<3.8.0,>=3.7.0->es-core-news-sm==3.7.0) (1.5.4)\n",
            "Requirement already satisfied: rich>=10.11.0 in /usr/local/lib/python3.10/dist-packages (from typer<1.0.0,>=0.3.0->spacy<3.8.0,>=3.7.0->es-core-news-sm==3.7.0) (13.9.3)\n",
            "Requirement already satisfied: cloudpathlib<1.0.0,>=0.7.0 in /usr/local/lib/python3.10/dist-packages (from weasel<0.5.0,>=0.1.0->spacy<3.8.0,>=3.7.0->es-core-news-sm==3.7.0) (0.20.0)\n",
            "Requirement already satisfied: smart-open<8.0.0,>=5.2.1 in /usr/local/lib/python3.10/dist-packages (from weasel<0.5.0,>=0.1.0->spacy<3.8.0,>=3.7.0->es-core-news-sm==3.7.0) (7.0.5)\n",
            "Requirement already satisfied: MarkupSafe>=2.0 in /usr/local/lib/python3.10/dist-packages (from jinja2->spacy<3.8.0,>=3.7.0->es-core-news-sm==3.7.0) (3.0.2)\n",
            "Requirement already satisfied: marisa-trie>=0.7.7 in /usr/local/lib/python3.10/dist-packages (from language-data>=1.2->langcodes<4.0.0,>=3.2.0->spacy<3.8.0,>=3.7.0->es-core-news-sm==3.7.0) (1.2.1)\n",
            "Requirement already satisfied: markdown-it-py>=2.2.0 in /usr/local/lib/python3.10/dist-packages (from rich>=10.11.0->typer<1.0.0,>=0.3.0->spacy<3.8.0,>=3.7.0->es-core-news-sm==3.7.0) (3.0.0)\n",
            "Requirement already satisfied: pygments<3.0.0,>=2.13.0 in /usr/local/lib/python3.10/dist-packages (from rich>=10.11.0->typer<1.0.0,>=0.3.0->spacy<3.8.0,>=3.7.0->es-core-news-sm==3.7.0) (2.18.0)\n",
            "Requirement already satisfied: wrapt in /usr/local/lib/python3.10/dist-packages (from smart-open<8.0.0,>=5.2.1->weasel<0.5.0,>=0.1.0->spacy<3.8.0,>=3.7.0->es-core-news-sm==3.7.0) (1.16.0)\n",
            "Requirement already satisfied: mdurl~=0.1 in /usr/local/lib/python3.10/dist-packages (from markdown-it-py>=2.2.0->rich>=10.11.0->typer<1.0.0,>=0.3.0->spacy<3.8.0,>=3.7.0->es-core-news-sm==3.7.0) (0.1.2)\n",
            "\u001b[38;5;2m✔ Download and installation successful\u001b[0m\n",
            "You can now load the package via spacy.load('es_core_news_sm')\n",
            "\u001b[38;5;3m⚠ Restart to reload dependencies\u001b[0m\n",
            "If you are in a Jupyter or Colab notebook, you may need to restart Python in\n",
            "order to load all the package's dependencies. You can do this by selecting the\n",
            "'Restart kernel' or 'Restart runtime' option.\n",
            "Reading package lists... Done\n",
            "Building dependency tree... Done\n",
            "Reading state information... Done\n",
            "poppler-utils is already the newest version (22.02.0-2ubuntu0.5).\n",
            "0 upgraded, 0 newly installed, 0 to remove and 49 not upgraded.\n",
            "Requirement already satisfied: pdf2image in /usr/local/lib/python3.10/dist-packages (1.17.0)\n",
            "Requirement already satisfied: pillow in /usr/local/lib/python3.10/dist-packages (from pdf2image) (10.4.0)\n"
          ]
        }
      ],
      "source": [
        "!pip install gspread oauth2client\n",
        "\n",
        "!pip install PyDrive2\n",
        "\n",
        "!python -m spacy download es_core_news_sm\n",
        "\n",
        "!apt-get install -y poppler-utils\n",
        "\n",
        "!pip install pdf2image"
      ]
    },
    {
      "cell_type": "markdown",
      "source": [
        "# Documento a procesar"
      ],
      "metadata": {
        "id": "WT29-KDSIHGF"
      }
    },
    {
      "cell_type": "code",
      "source": [
        "nombre_pdf = 'Doc20241001144812.pdf'"
      ],
      "metadata": {
        "id": "tHiHQBQ2WHld"
      },
      "execution_count": null,
      "outputs": []
    },
    {
      "cell_type": "code",
      "source": [
        "# Ruta de todos los PDF a procesar\n",
        "folder_path = '/content/drive/MyDrive/mi_carpeta'\n",
        "\n",
        "# Recorre todos los archivos en la carpeta\n",
        "for file_name in os.listdir(folder_path):\n",
        "    file_path = os.path.join(folder_path, file_name)\n",
        "    if os.path.isfile(file_path):  # Verifica si es un archivo\n",
        "\n"
      ],
      "metadata": {
        "id": "Dd3XHn1fXusk"
      },
      "execution_count": null,
      "outputs": []
    },
    {
      "cell_type": "markdown",
      "source": [
        "prueba"
      ],
      "metadata": {
        "id": "giMJb9GiWI_W"
      }
    },
    {
      "cell_type": "code",
      "source": [
        "def esuno (numero):\n",
        "  if numero == 1:\n",
        "    return True\n",
        "  else:\n",
        "    return False\n"
      ],
      "metadata": {
        "id": "atnkS97MVUwy"
      },
      "execution_count": null,
      "outputs": []
    },
    {
      "cell_type": "markdown",
      "source": [],
      "metadata": {
        "id": "P6xWKd0icA8i"
      }
    },
    {
      "cell_type": "code",
      "source": [
        "numero = 1\n",
        "resultado = esuno(numero)\n",
        "print(resultado)"
      ],
      "metadata": {
        "id": "j9zoHMq3IG0Z",
        "colab": {
          "base_uri": "https://localhost:8080/"
        },
        "outputId": "75bfc646-55e1-4b9f-e229-339fc5ab2b9f"
      },
      "execution_count": null,
      "outputs": [
        {
          "output_type": "stream",
          "name": "stdout",
          "text": [
            "True\n"
          ]
        }
      ]
    },
    {
      "cell_type": "markdown",
      "metadata": {
        "id": "KY5W8oVUk_Rg"
      },
      "source": [
        "# Limpia Temporales (ejecutar con precaución)"
      ]
    },
    {
      "cell_type": "markdown",
      "metadata": {
        "id": "ezoOrq-N44az"
      },
      "source": [
        "elimina temporales png"
      ]
    },
    {
      "cell_type": "code",
      "execution_count": null,
      "metadata": {
        "id": "BOw6cdPL4Ntv"
      },
      "outputs": [],
      "source": [
        "!rm -rf /content/drive/MyDrive/Digitalizacion_de_Legajos/Imagenes_de_PDF/*"
      ]
    },
    {
      "cell_type": "markdown",
      "metadata": {
        "id": "vdD2r1vo4DQg"
      },
      "source": [
        "elimina temporales txt"
      ]
    },
    {
      "cell_type": "code",
      "execution_count": null,
      "metadata": {
        "id": "ptGsdGCe325v"
      },
      "outputs": [],
      "source": [
        "!rm -rf /content/drive/MyDrive/Digitalizacion_de_Legajos/Texto_de_imagenes/*"
      ]
    },
    {
      "cell_type": "markdown",
      "metadata": {
        "id": "TUhQNd_picd9"
      },
      "source": [
        "# PDF a Imagen"
      ]
    },
    {
      "cell_type": "code",
      "execution_count": null,
      "metadata": {
        "id": "K_HTXYBmifTB",
        "colab": {
          "base_uri": "https://localhost:8080/"
        },
        "outputId": "666ffad7-cf24-40ae-c039-ad4cc449e2e5"
      },
      "outputs": [
        {
          "output_type": "stream",
          "name": "stdout",
          "text": [
            "Página 1 guardada como /content/drive/MyDrive/Digitalizacion_de_Legajos/Imagenes_de_PDF/Doc20241001144812_pagina_1.png\n",
            "Página 2 guardada como /content/drive/MyDrive/Digitalizacion_de_Legajos/Imagenes_de_PDF/Doc20241001144812_pagina_2.png\n",
            "Página 3 guardada como /content/drive/MyDrive/Digitalizacion_de_Legajos/Imagenes_de_PDF/Doc20241001144812_pagina_3.png\n",
            "Página 4 guardada como /content/drive/MyDrive/Digitalizacion_de_Legajos/Imagenes_de_PDF/Doc20241001144812_pagina_4.png\n",
            "Página 5 guardada como /content/drive/MyDrive/Digitalizacion_de_Legajos/Imagenes_de_PDF/Doc20241001144812_pagina_5.png\n",
            "Página 6 guardada como /content/drive/MyDrive/Digitalizacion_de_Legajos/Imagenes_de_PDF/Doc20241001144812_pagina_6.png\n",
            "Página 7 guardada como /content/drive/MyDrive/Digitalizacion_de_Legajos/Imagenes_de_PDF/Doc20241001144812_pagina_7.png\n",
            "Página 8 guardada como /content/drive/MyDrive/Digitalizacion_de_Legajos/Imagenes_de_PDF/Doc20241001144812_pagina_8.png\n",
            "Página 9 guardada como /content/drive/MyDrive/Digitalizacion_de_Legajos/Imagenes_de_PDF/Doc20241001144812_pagina_9.png\n",
            "\n",
            "Conversión completa. Total de imágenes generadas: 9\n"
          ]
        }
      ],
      "source": [
        "from pdf2image import convert_from_path\n",
        "import os\n",
        "from google.colab import drive\n",
        "\n",
        "def convertir_pdf_a_imagenes(nombre_pdf, carpeta_entrada, carpeta_salida, resolucion_dpi=300):\n",
        "    \"\"\"\n",
        "    Convierte un archivo PDF en imágenes PNG, guardando cada página como una imagen separada.\n",
        "\n",
        "    Parámetros:\n",
        "    - nombre_pdf (str): Nombre del archivo PDF a convertir.\n",
        "    - carpeta_entrada (str): Ruta de la carpeta donde se encuentra el archivo PDF.\n",
        "    - carpeta_salida (str): Ruta de la carpeta donde se guardarán las imágenes generadas.\n",
        "    - resolucion_dpi (int): Resolución en DPI para la conversión (por defecto es 300).\n",
        "\n",
        "    Retorna:\n",
        "    - Lista de rutas de las imágenes generadas.\n",
        "    \"\"\"\n",
        "\n",
        "    # Definir la ruta completa del archivo PDF\n",
        "    ruta_pdf = os.path.join(carpeta_entrada, nombre_pdf)\n",
        "\n",
        "    # Verificar si el archivo PDF existe\n",
        "    if not os.path.exists(ruta_pdf):\n",
        "        print(f\"Error: El archivo {ruta_pdf} no existe.\")\n",
        "        return []\n",
        "\n",
        "    # Crear la carpeta de salida si no existe\n",
        "    os.makedirs(carpeta_salida, exist_ok=True)\n",
        "\n",
        "    try:\n",
        "        # Convertir el PDF en una lista de imágenes\n",
        "        paginas = convert_from_path(ruta_pdf, resolucion_dpi)\n",
        "\n",
        "        # Lista para almacenar las rutas de las imágenes generadas\n",
        "        rutas_imagenes = []\n",
        "\n",
        "        # Guardar cada página como una imagen PNG\n",
        "        for indice, pagina in enumerate(paginas):\n",
        "            nombre_imagen = f'{os.path.splitext(nombre_pdf)[0]}_pagina_{indice + 1}.png'\n",
        "            ruta_imagen = os.path.join(carpeta_salida, nombre_imagen)\n",
        "            pagina.save(ruta_imagen, 'PNG')\n",
        "            rutas_imagenes.append(ruta_imagen)\n",
        "            print(f'Página {indice + 1} guardada como {ruta_imagen}')\n",
        "\n",
        "        return rutas_imagenes\n",
        "\n",
        "    except Exception as e:\n",
        "        print(f\"Ocurrió un error al convertir el PDF: {e}\")\n",
        "        return []\n",
        "\n",
        "# Definir los parámetros\n",
        "carpeta_entrada = '/content/drive/MyDrive/Digitalizacion_de_Legajos/Registro Histórico/'\n",
        "carpeta_salida = '/content/drive/MyDrive/Digitalizacion_de_Legajos/Imagenes_de_PDF/'\n",
        "resolucion_dpi = 300  # Puedes ajustar la resolución según sea necesario\n",
        "\n",
        "# Llamar a la función\n",
        "imagenes_generadas = convertir_pdf_a_imagenes(nombre_pdf, carpeta_entrada, carpeta_salida, resolucion_dpi)\n",
        "\n",
        "# Imprimir resumen final\n",
        "if imagenes_generadas:\n",
        "    print(f\"\\nConversión completa. Total de imágenes generadas: {len(imagenes_generadas)}\")\n",
        "else:\n",
        "    print(\"No se generaron imágenes.\")\n"
      ]
    },
    {
      "cell_type": "markdown",
      "metadata": {
        "id": "rzqQqaerioWw"
      },
      "source": [
        "# Imagen a TXT con OCR"
      ]
    },
    {
      "cell_type": "code",
      "execution_count": null,
      "metadata": {
        "id": "3eh24qzai3LU",
        "colab": {
          "base_uri": "https://localhost:8080/"
        },
        "outputId": "df2f834d-54c0-440a-9af3-20535d5d8e2c"
      },
      "outputs": [
        {
          "output_type": "stream",
          "name": "stdout",
          "text": [
            "Texto extraído guardado en /content/drive/MyDrive/Digitalizacion_de_Legajos/Texto_de_imagenes/Doc20241001144812_pagina_9.txt\n",
            "Texto extraído guardado en /content/drive/MyDrive/Digitalizacion_de_Legajos/Texto_de_imagenes/Doc20241001144812_pagina_8.txt\n",
            "Texto extraído guardado en /content/drive/MyDrive/Digitalizacion_de_Legajos/Texto_de_imagenes/Doc20241001144812_pagina_7.txt\n",
            "Texto extraído guardado en /content/drive/MyDrive/Digitalizacion_de_Legajos/Texto_de_imagenes/Doc20241001144812_pagina_6.txt\n",
            "Texto extraído guardado en /content/drive/MyDrive/Digitalizacion_de_Legajos/Texto_de_imagenes/Doc20241001144812_pagina_5.txt\n",
            "Texto extraído guardado en /content/drive/MyDrive/Digitalizacion_de_Legajos/Texto_de_imagenes/Doc20241001144812_pagina_4.txt\n",
            "Texto extraído guardado en /content/drive/MyDrive/Digitalizacion_de_Legajos/Texto_de_imagenes/Doc20241001144812_pagina_3.txt\n",
            "Texto extraído guardado en /content/drive/MyDrive/Digitalizacion_de_Legajos/Texto_de_imagenes/Doc20241001144812_pagina_2.txt\n",
            "Texto extraído guardado en /content/drive/MyDrive/Digitalizacion_de_Legajos/Texto_de_imagenes/Doc20241001144812_pagina_1.txt\n"
          ]
        }
      ],
      "source": [
        "# Configurar la API de Google Vision y cargar la credencial JSON\n",
        "import os\n",
        "from google.oauth2 import service_account\n",
        "from googleapiclient.discovery import build\n",
        "import base64\n",
        "import re\n",
        "\n",
        "# Ruta al archivo JSON de credenciales de servicio en Google Drive\n",
        "ruta_credenciales_vision = '/content/drive/MyDrive/Digitalizacion_de_Legajos/cred-Google-Cloud-Vision.json'\n",
        "\n",
        "# Cargar credenciales desde el archivo JSON\n",
        "credenciales_vision = service_account.Credentials.from_service_account_file(ruta_credenciales_vision)\n",
        "\n",
        "# Construir el cliente de la API de Google Vision\n",
        "servicio_vision = build('vision', 'v1', credentials=credenciales_vision)\n",
        "\n",
        "# Configurar las carpetas de imágenes y de salida de texto\n",
        "carpeta_imagenes = '/content/drive/MyDrive/Digitalizacion_de_Legajos/Imagenes_de_PDF/'\n",
        "carpeta_texto_extraido = '/content/drive/MyDrive/Digitalizacion_de_Legajos/Texto_de_imagenes'\n",
        "\n",
        "# Crear la carpeta de salida si no existe\n",
        "os.makedirs(carpeta_texto_extraido, exist_ok=True)\n",
        "\n",
        "# Obtener lista de todos los archivos PNG en la carpeta, ordenados en reversa\n",
        "imagenes = sorted(\n",
        "    [os.path.join(carpeta_imagenes, f) for f in os.listdir(carpeta_imagenes) if f.endswith('.png')],\n",
        "    reverse=True\n",
        ")\n",
        "\n",
        "# Función para realizar OCR en una imagen usando la API de Google Vision\n",
        "def extraer_texto_de_imagen(ruta_imagen):\n",
        "    \"\"\"\n",
        "    Realiza OCR en una imagen utilizando Google Cloud Vision API.\n",
        "\n",
        "    Parámetros:\n",
        "    - ruta_imagen (str): Ruta de la imagen a procesar.\n",
        "\n",
        "    Retorna:\n",
        "    - Texto extraído de la imagen o None si no se detecta texto.\n",
        "    \"\"\"\n",
        "    try:\n",
        "        with open(ruta_imagen, 'rb') as archivo_imagen:\n",
        "            contenido = base64.b64encode(archivo_imagen.read()).decode('utf-8')\n",
        "\n",
        "        cuerpo_peticion = {\n",
        "            \"requests\": [{\n",
        "                \"image\": {\n",
        "                    \"content\": contenido\n",
        "                },\n",
        "                \"features\": [{\n",
        "                    \"type\": \"TEXT_DETECTION\"\n",
        "                }]\n",
        "            }]\n",
        "        }\n",
        "\n",
        "        respuesta = servicio_vision.images().annotate(body=cuerpo_peticion).execute()\n",
        "\n",
        "        # Verificar si se obtuvo texto en la respuesta\n",
        "        if 'textAnnotations' in respuesta['responses'][0]:\n",
        "            texto_extraido = respuesta['responses'][0]['textAnnotations'][0]['description']\n",
        "            return texto_extraido\n",
        "        else:\n",
        "            print(f\"No se pudo extraer texto de {os.path.basename(ruta_imagen)}\")\n",
        "            return None\n",
        "\n",
        "    except HttpError as error:\n",
        "        print(f\"Ocurrió un error con la API de Google Vision: {error}\")\n",
        "        return None\n",
        "    except Exception as e:\n",
        "        print(f\"Error al procesar la imagen {ruta_imagen}: {e}\")\n",
        "        return None\n",
        "\n",
        "# Procesar cada imagen y guardar el texto extraído en un archivo .txt\n",
        "for ruta_imagen in imagenes:\n",
        "    texto_extraido = extraer_texto_de_imagen(ruta_imagen)\n",
        "    if texto_extraido:\n",
        "        nombre_txt = os.path.splitext(os.path.basename(ruta_imagen))[0]\n",
        "        ruta_archivo_salida = os.path.join(carpeta_texto_extraido, f'{nombre_txt}.txt')\n",
        "\n",
        "        # Guardar el texto extraído en un archivo de texto\n",
        "        with open(ruta_archivo_salida, 'w', encoding='utf-8') as archivo:\n",
        "            archivo.write(texto_extraido)\n",
        "\n",
        "        print(f\"Texto extraído guardado en {ruta_archivo_salida}\")\n",
        "    else:\n",
        "        print(f\"No se pudo extraer texto de {ruta_imagen}\")\n"
      ]
    },
    {
      "cell_type": "markdown",
      "metadata": {
        "id": "BZrkaocUfAIa"
      },
      "source": [
        "# Obtener Fecha\n"
      ]
    },
    {
      "cell_type": "code",
      "execution_count": null,
      "metadata": {
        "id": "TlCMR7-R6suV",
        "colab": {
          "base_uri": "https://localhost:8080/"
        },
        "outputId": "13930fd5-c0bd-4fa7-b3a4-d4de342754be"
      },
      "outputs": [
        {
          "output_type": "stream",
          "name": "stdout",
          "text": [
            "La fecha más reciente es: 03/09/2018\n",
            "Todas las fechas encontradas: ['18/06/2018', '28/08/2018', '03/09/2018', '28/08/2018', '24/08/2018', '06/08/2018', '06/08/2018', '30/08/2018', '18/06/2018', '27/08/2018']\n"
          ]
        }
      ],
      "source": [
        "import os\n",
        "import re\n",
        "from datetime import datetime\n",
        "\n",
        "# Configura la carpeta de los txt\n",
        "txt_folder = '/content/drive/MyDrive/Digitalizacion_de_Legajos/Texto_de_imagenes'\n",
        "\n",
        "# Función para buscar fechas\n",
        "def extract_dates_from_text(text):\n",
        "    date_pattern = r'(\\b\\d{1,2}([./-])\\d{1,2}\\2\\d{2,4}\\b|' \\\n",
        "                   r'\\b\\d{1,2}\\sde\\s(?:enero|febrero|marzo|abril|mayo|junio|julio|agosto|septiembre|octubre|noviembre|diciembre|' \\\n",
        "                   r'ENERO|FEBRERO|MARZO|ABRIL|MAYO|JUNIO|JULIO|AGOSTO|SEPTIEMBRE|OCTUBRE|NOVIEMBRE|DICIEMBRE)\\sde\\s\\d{4}\\b|' \\\n",
        "                   r'\\b\\d{1,2}\\s(?:enero|febrero|marzo|abril|mayo|junio|julio|agosto|septiembre|octubre|noviembre|diciembre|' \\\n",
        "                   r'ENERO|FEBRERO|MARZO|ABRIL|MAYO|JUNIO|JULIO|AGOSTO|SEPTIEMBRE|OCTUBRE|NOVIEMBRE|DICIEMBRE)\\s\\d{2,4}\\b)'\n",
        "    dates = re.findall(date_pattern, text, re.UNICODE | re.IGNORECASE) # Buscar las fechas con soporte Unicode con mayúsculas y minúsculas\n",
        "    return [date[0] for date in dates] # Solo devolver las fechas capturadas, ignorando los grupos adicionales del separador\n",
        "\n",
        "# Función para convertir el mes en número\n",
        "def month_to_number(month):\n",
        "    months = {\n",
        "        'enero': 1, 'febrero': 2, 'marzo': 3, 'abril': 4, 'mayo': 5, 'junio': 6,\n",
        "        'julio': 7, 'agosto': 8, 'septiembre': 9, 'octubre': 10, 'noviembre': 11, 'diciembre': 12\n",
        "    }\n",
        "    return months[month.lower()]\n",
        "\n",
        "# Función para convertir una fecha en formato string a objeto datetime\n",
        "def convert_to_datetime(date_str):\n",
        "    # Intentar distintos formatos de fecha\n",
        "    formats = [\n",
        "        '%d/%m/%Y', '%d/%m/%y',  # Formato con barras\n",
        "        '%d-%m-%Y', '%d-%m-%y',  # Formato con guiones\n",
        "        '%d.%m.%Y', '%d.%m.%y',  # Formato con puntos\n",
        "    ]\n",
        "\n",
        "    # Intentar con los formatos predefinidos primero\n",
        "    for fmt in formats:\n",
        "        try:\n",
        "            return datetime.strptime(date_str, fmt)\n",
        "        except ValueError:\n",
        "            pass  # Ignorar si el formato no coincide\n",
        "\n",
        "    # Caso de fechas con formato \"dd de mes de yyyy\"\n",
        "    if re.match(r'\\b\\d{1,2}\\sde\\s(?:enero|febrero|marzo|abril|mayo|junio|julio|agosto|septiembre|octubre|noviembre|diciembre)\\sde\\s\\d{4}\\b', date_str):\n",
        "        day, month, year = re.match(r'(\\d{1,2})\\sde\\s([a-zA-Z]+)\\sde\\s(\\d{4})', date_str).groups()\n",
        "        return datetime(int(year), month_to_number(month), int(day))\n",
        "\n",
        "    # Caso de fechas con formato \"dd mes de yyyy\"\n",
        "    if re.match(r'\\b\\d{1,2}\\s(?:enero|febrero|marzo|abril|mayo|junio|julio|agosto|septiembre|octubre|noviembre|diciembre)\\sde\\s\\d{4}\\b', date_str):\n",
        "        day, month, year = re.match(r'(\\d{1,2})\\s([a-zA-Z]+)\\sde\\s(\\d{4})', date_str).groups()\n",
        "        return datetime(int(year), month_to_number(month), int(day))\n",
        "\n",
        "    # Caso de fechas con formato \"dd de mes yyyy\"\n",
        "    if re.match(r'\\b\\d{1,2}\\sde\\s(?:enero|febrero|marzo|abril|mayo|junio|julio|agosto|septiembre|octubre|noviembre|diciembre)\\s\\d{4}\\b', date_str):\n",
        "        day, month, year = re.match(r'(\\d{1,2})\\sde\\s([a-zA-Z]+)\\s(\\d{4})', date_str).groups()\n",
        "        return datetime(int(year), month_to_number(month), int(day))\n",
        "\n",
        "    return None\n",
        "\n",
        "# Crear una lista de fechas\n",
        "all_dates = []\n",
        "\n",
        "# Leer todos los archivos .txt de la carpeta\n",
        "for filename in os.listdir(txt_folder):\n",
        "    if filename.endswith(\".txt\"):\n",
        "        file_path = os.path.join(txt_folder, filename)\n",
        "\n",
        "        # Leer el contenido del archivo .txt\n",
        "        with open(file_path, 'r', encoding='utf-8') as file:\n",
        "            text_from_file = file.read()\n",
        "\n",
        "        # Extraer las fechas del texto\n",
        "        dates = extract_dates_from_text(text_from_file)\n",
        "\n",
        "        # Convertir las fechas a objetos datetime y agregarlas a la lista\n",
        "        for date_str in dates:\n",
        "            date_obj = convert_to_datetime(date_str)\n",
        "            if date_obj:\n",
        "                all_dates.append(date_obj)\n",
        "\n",
        "# Encontrar la fecha más reciente\n",
        "if all_dates:\n",
        "    latest_date = max(all_dates)\n",
        "\n",
        "    ultima_fecha=latest_date.strftime(\"%d/%m/%Y\")\n",
        "\n",
        "    legajo['Fecha de Prueba'] = ultima_fecha\n",
        "\n",
        "    print(f\"La fecha más reciente es: {ultima_fecha}\")\n",
        "else:\n",
        "    print(\"No se encontraron fechas.\")\n",
        "\n",
        "# Iterar sobre las fechas y formatearlas\n",
        "formatted_dates = [date.strftime(\"%d/%m/%Y\") for date in all_dates]\n",
        "# Imprimir todas las fechas\n",
        "print(\"Todas las fechas encontradas:\", formatted_dates)"
      ]
    },
    {
      "cell_type": "markdown",
      "metadata": {
        "id": "YSxTSnKXLc0Q"
      },
      "source": [
        "# Obtener Número de Serie"
      ]
    },
    {
      "cell_type": "code",
      "execution_count": null,
      "metadata": {
        "id": "RgGqpX3LLkbq",
        "colab": {
          "base_uri": "https://localhost:8080/"
        },
        "outputId": "cf40117d-3a54-4bf8-8e01-f991f527a852"
      },
      "outputs": [
        {
          "output_type": "stream",
          "name": "stdout",
          "text": [
            "Coincidencia encontrada en la planilla: 070018181\n"
          ]
        }
      ],
      "source": [
        "import re\n",
        "import gspread\n",
        "from oauth2client.service_account import ServiceAccountCredentials\n",
        "\n",
        "# Autenticación con Google Drive y Sheets\n",
        "scope = [\"https://spreadsheets.google.com/feeds\", \"https://www.googleapis.com/auth/drive\"]\n",
        "creds = ServiceAccountCredentials.from_json_keyfile_name(\"/content/drive/MyDrive/Digitalizacion_de_Legajos/cred-Google-Drive-API.json\", scope)\n",
        "client = gspread.authorize(creds)\n",
        "\n",
        "# Cargar el archivo de Google Sheets\n",
        "spreadsheet = client.open_by_key(\"1ONbo4xI5gHgFPQRR-Hl_0vQxUS1HOpn8G4wDz5n8qMI\")\n",
        "sheet = spreadsheet.get_worksheet(0)  # Cambiar al índice correcto de la hoja si es necesario\n",
        "\n",
        "# # Obtener la lista de números de la primera columna\n",
        "# numeros_sheet = sheet.col_values(1)[1:]  # Excluir la primera fila\n",
        "\n",
        "# Obtener prefijos de la primera columna, sin la primera fila\n",
        "numerosserie_sheet = set(code[:4] for code in sheet.col_values(1)[1:])\n",
        "\n",
        "# Obtener prefijos de la primera columna, sin la primera fila\n",
        "modelos_sheet = set(code for code in sheet.col_values(2)[1:])\n",
        "\n",
        "# Función para extraer y filtrar números\n",
        "def extraer_numeros(texto):\n",
        "    coincidencias = set()\n",
        "    # Eliminar solo espacios y puntos antes de buscar los números\n",
        "    texto_limpio = re.sub(r'[ .]', '', texto)\n",
        "\n",
        "    # Buscar números con un mínimo de 8 dígitos\n",
        "    for match in re.finditer(r'\\b\\d{8,}\\b', texto_limpio):\n",
        "        numero = match.group(0)\n",
        "\n",
        "        # Si el número es de 9 cifras y comienza con un prefijo de la planilla, agregarlo\n",
        "        if len(numero) == 9 and numero[:4] in numerosserie_sheet:\n",
        "            coincidencias.add(numero)\n",
        "\n",
        "        # Si el número tiene más de 9 cifras, generar combinaciones de 9 dígitos\n",
        "        elif len(numero) > 9:\n",
        "            for i in range(len(numero) - 8):\n",
        "                sub_numero = numero[i:i+9]\n",
        "                if sub_numero[:4] in numerosserie_sheet:\n",
        "                    coincidencias.add(sub_numero)\n",
        "\n",
        "    return coincidencias\n",
        "\n",
        "# Leer y buscar coincidencias en archivos .txt de una carpeta específica\n",
        "import os\n",
        "\n",
        "def buscar_coincidencias_en_txt(ruta_carpeta):\n",
        "    coincidencia_unica = None  # Iniciar como None\n",
        "\n",
        "    for archivo in os.listdir(ruta_carpeta):\n",
        "        if archivo.endswith(\".txt\"):\n",
        "            try:\n",
        "                with open(os.path.join(ruta_carpeta, archivo), 'r') as file:\n",
        "                    contenido = file.read()\n",
        "                    coincidencias = extraer_numeros(contenido)\n",
        "\n",
        "                    # Si ya se encontró una coincidencia, no seguir buscando\n",
        "                    if coincidencia_unica is None and coincidencias:\n",
        "                        coincidencia_unica = next(iter(coincidencias))  # Obtener un solo valor\n",
        "\n",
        "            except Exception as e:\n",
        "                print(f\"Error reading file {archivo}: {e}\")\n",
        "\n",
        "    return coincidencia_unica  # Devolver la única coincidencia o None si no se encontró nada\n",
        "\n",
        "# Ejecutar la función\n",
        "ruta_carpeta_txt = \"/content/drive/MyDrive/Digitalizacion_de_Legajos/Texto_de_imagenes\"\n",
        "numero_serie_encontrado = buscar_coincidencias_en_txt(ruta_carpeta_txt)\n",
        "\n",
        "legajo['Número de Serie']=numero_serie_encontrado\n",
        "\n",
        "print(\"Coincidencia encontrada en la planilla:\", numero_serie_encontrado)\n"
      ]
    },
    {
      "cell_type": "markdown",
      "source": [
        "# Obtener Familia"
      ],
      "metadata": {
        "id": "pKEl5GBRJ5lM"
      }
    },
    {
      "cell_type": "code",
      "source": [
        "def obtener_familia(numero_serie):\n",
        "    # Obtener los primeros 4 dígitos del número de serie\n",
        "    prefijo = numero_serie[:4]\n",
        "\n",
        "    # Obtener todas las filas de la columna 1 y columna 2 (sin la primera fila)\n",
        "    columna1 = sheet.col_values(1)[1:]  # Columna de códigos\n",
        "    columna2 = sheet.col_values(2)[1:]  # Columna de modelos\n",
        "\n",
        "    # Buscar el prefijo en la columna 1\n",
        "    for idx, codigo in enumerate(columna1):\n",
        "        if codigo == prefijo:\n",
        "            return columna2[idx]  # Retorna el valor correspondiente de la columna 2\n",
        "\n",
        "    return None  # Retorna None si no encuentra coincidencia\n",
        "\n",
        "familia_encontrada = obtener_familia(numero_serie_encontrado)\n",
        "\n",
        "if familia_encontrada:\n",
        "    print(\"Valor encontrado en la columna 2:\", familia_encontrada)\n",
        "else:\n",
        "    print(\"No se encontró una coincidencia para el número de serie.\")"
      ],
      "metadata": {
        "id": "eX7YfvFtJ55v",
        "colab": {
          "base_uri": "https://localhost:8080/"
        },
        "outputId": "e385da12-fa7b-4c7f-c774-981c6a371fa7"
      },
      "execution_count": null,
      "outputs": [
        {
          "output_type": "stream",
          "name": "stdout",
          "text": [
            "Valor encontrado en la columna 2: AT\n"
          ]
        }
      ]
    },
    {
      "cell_type": "markdown",
      "source": [
        "# Renombra el PDF y lo copia a la carpeta ordenada"
      ],
      "metadata": {
        "id": "JWkn8GPNvRzL"
      }
    },
    {
      "cell_type": "code",
      "source": [
        "import os\n",
        "from datetime import datetime\n",
        "\n",
        "# ultima_fecha (la trae de \"obtener fecha\")\n",
        "\n",
        "ultima_fecha_datetime = datetime.strptime(ultima_fecha, \"%d/%m/%Y\")\n",
        "\n",
        "def convertir_fecha(fecha):\n",
        "    # Convertir la fecha quitando /\n",
        "    fecha_convertida = datetime.strptime(fecha, \"%d/%m/%Y\").strftime(\"%d%m%Y\")\n",
        "    return fecha_convertida\n",
        "\n",
        "fechasinbarras = convertir_fecha(ultima_fecha)\n",
        "\n",
        "# ultima_fecha_datetime.year (año de la ultima fecha)\n",
        "\n",
        "# numero_serie_encontrado (viene del modulo \"obtener numero de serie\")\n",
        "\n",
        "# modelo_encontrado (viene de Reconocimiento de modelo con IA)\n",
        "\n",
        "# nombre_pdf (es el nombre original del pdf)\n",
        "# carpeta_entrada (es la carpeta donde este el pdf)\n",
        "\n",
        "# Construir la ruta de destino\n",
        "carpeta_legajos_procesados = '/content/drive/MyDrive/Digitalizacion_de_Legajos/Legajos procesados/'  # Directorio de destino\n",
        "\n",
        "ruta_destino = f\"{carpeta_legajos_procesados}{ultima_fecha_datetime.year}/{familia_encontrada}\"\n",
        "\n",
        "# Crear la estructura de carpetas si no existe\n",
        "os.makedirs(ruta_destino, exist_ok=True)\n",
        "\n",
        "# Renombrar pdf\n",
        "nuevo_nombre = f\"{fechasinbarras}-{numero_serie_encontrado}.pdf\"\n",
        "\n",
        "# # PRUEBAS\n",
        "# print(fechasinbarras)\n",
        "# print(f\"carpeta origen: {carpeta_entrada}\")\n",
        "# print(f\"nombre original: {nombre_pdf}\")\n",
        "# print(f\"familia: {familia_encontrada}\")\n",
        "# print(f\"ruta de destino: {ruta_destino}\")\n",
        "\n",
        "# renombrar y mueve el archivo\n",
        "def copiar_pdf(carpeta_entrada, nombre_pdf, ruta_destino, nuevo_nombre):\n",
        "    try:\n",
        "        # Formar las rutas completas\n",
        "        ruta_origen = os.path.join(carpeta_entrada, nombre_pdf)\n",
        "        ruta_final = os.path.join(ruta_destino, nuevo_nombre)\n",
        "\n",
        "        # Comando de copia\n",
        "        resultado = os.system(f'cp \"{ruta_origen}\" \"{ruta_final}\"')\n",
        "\n",
        "        # Verificar resultado y mostrar mensajes\n",
        "        if resultado == 0:\n",
        "            print(f\"Archivo copiado exitosamente a {ruta_final}\")\n",
        "        else:\n",
        "            print(\"Error al copiar el archivo.\")\n",
        "    except Exception as e:\n",
        "        print(f\"Error: {e}\")\n",
        "\n",
        "copiar_pdf(carpeta_entrada, nombre_pdf, ruta_destino, nuevo_nombre)"
      ],
      "metadata": {
        "id": "FlxFgMYlaRYc",
        "colab": {
          "base_uri": "https://localhost:8080/"
        },
        "outputId": "66e95178-b8f5-4ea7-9380-abba6248738e"
      },
      "execution_count": null,
      "outputs": [
        {
          "output_type": "stream",
          "name": "stdout",
          "text": [
            "Archivo copiado exitosamente a /content/drive/MyDrive/Digitalizacion_de_Legajos/Legajos procesados/2018/AT/03092018-070018181.pdf\n"
          ]
        }
      ]
    },
    {
      "cell_type": "markdown",
      "metadata": {
        "id": "GC7fLKnW2nxq"
      },
      "source": [
        "# Reconocimiento de modelo con IA"
      ]
    },
    {
      "cell_type": "code",
      "execution_count": null,
      "metadata": {
        "id": "6g0KvjHH2tWL",
        "colab": {
          "base_uri": "https://localhost:8080/"
        },
        "outputId": "fd0d8895-5669-4261-e64b-1158502c6ba4"
      },
      "outputs": [
        {
          "output_type": "stream",
          "name": "stdout",
          "text": [
            "Modelo encontrado en el texto concatenado:\n",
            "AT 4313\n"
          ]
        }
      ],
      "source": [
        "import json\n",
        "import os\n",
        "import spacy\n",
        "from spacy.language import Language\n",
        "from spacy.matcher import PhraseMatcher\n",
        "from spacy.tokens import Span\n",
        "from spacy.util import filter_spans\n",
        "\n",
        "# Cargar los modelos de maquinaria desde el archivo JSON\n",
        "with open('/content/drive/MyDrive/Digitalizacion_de_Legajos/Datasets/familias.json', 'r') as archivo_json:\n",
        "    modelos_familia = [modelo[\"Familia\"].upper() for modelo in json.load(archivo_json)]\n",
        "\n",
        "# Inicializar un modelo SpaCy vacío para el español y el PhraseMatcher\n",
        "nlp = spacy.blank(\"es\")\n",
        "buscador_frases = PhraseMatcher(nlp.vocab, attr=\"LOWER\")\n",
        "buscador_frases.add(\"MODELO\", [nlp.make_doc(modelo) for modelo in modelos_familia])\n",
        "\n",
        "# Definir un componente personalizado para etiquetar modelos detectados en el texto\n",
        "@Language.component(\"etiquetar_modelos\")\n",
        "def etiquetar_modelos(doc):\n",
        "    coincidencias = buscador_frases(doc)\n",
        "    spans = [Span(doc, inicio, fin, label=\"MODELO\") for _, inicio, fin in coincidencias]\n",
        "    doc.ents = filter_spans(spans)  # Filtrar posibles solapamientos\n",
        "    return doc\n",
        "\n",
        "# Agregar el componente al pipeline de procesamiento de SpaCy\n",
        "nlp.add_pipe(\"etiquetar_modelos\", last=True)\n",
        "\n",
        "# Definir la ruta de la carpeta que contiene los archivos de texto extraídos\n",
        "ruta_carpeta_txt = '/content/drive/MyDrive/Digitalizacion_de_Legajos/Texto_de_imagenes'\n",
        "\n",
        "# Concatenar el texto de los archivos que contienen la palabra \"modelo\"\n",
        "texto_concatenado = \"\"\n",
        "try:\n",
        "    for archivo in os.listdir(ruta_carpeta_txt):\n",
        "        if archivo.endswith(\".txt\"):\n",
        "            ruta_archivo = os.path.join(ruta_carpeta_txt, archivo)\n",
        "            with open(ruta_archivo, 'r') as archivo_txt:\n",
        "                contenido = archivo_txt.read().upper()\n",
        "\n",
        "                # Verificar si el archivo contiene la palabra \"modelo\"\n",
        "                if \"MODELO\" in contenido:\n",
        "                    texto_concatenado += contenido + \"\\n\"\n",
        "\n",
        "    # Procesar el texto concatenado con SpaCy si se encontró alguno\n",
        "    if texto_concatenado:\n",
        "        doc = nlp(texto_concatenado)\n",
        "\n",
        "        # Obtener el primer modelo encontrado (si existe alguno)\n",
        "        modelo_encontrado = next((entidad.text for entidad in doc.ents), None)\n",
        "\n",
        "        if modelo_encontrado:\n",
        "            print(\"Modelo encontrado en el texto concatenado:\")\n",
        "            print(modelo_encontrado)\n",
        "\n",
        "            legajo['Modelo'] = modelo_encontrado\n",
        "        else:\n",
        "            print(\"No se encontraron modelos en el texto concatenado.\")\n",
        "    else:\n",
        "        print(\"No se encontraron archivos con la palabra 'modelo'.\")\n",
        "except Exception as e:\n",
        "    print(f\"Error al procesar los archivos: {e}\")\n"
      ]
    },
    {
      "cell_type": "markdown",
      "source": [
        "# Obtener enlace del PDF"
      ],
      "metadata": {
        "id": "y1kp85bX9BFn"
      }
    },
    {
      "cell_type": "code",
      "source": [
        "import time\n",
        "\n",
        "time.sleep(15)  # Espera 10 segundos"
      ],
      "metadata": {
        "id": "Mrk1T2pTP4h2"
      },
      "execution_count": null,
      "outputs": []
    },
    {
      "cell_type": "code",
      "source": [
        "import os\n",
        "import requests\n",
        "from google.colab import auth\n",
        "from googleapiclient.discovery import build\n",
        "\n",
        "def obtener_id_archivo(ruta_archivo):\n",
        "    # Obtener el nombre del archivo\n",
        "    nombre_archivo = os.path.basename(ruta_archivo)  # Obtiene el nombre del archivo\n",
        "    carpeta = os.path.dirname(ruta_archivo)  # Obtiene la carpeta\n",
        "\n",
        "    # Obtener el ID de la carpeta\n",
        "    carpeta_id = obtener_id_carpeta(carpeta)\n",
        "\n",
        "    # Realizar la búsqueda del archivo por nombre en la carpeta\n",
        "    query = f\"name='{nombre_archivo}' and '{carpeta_id}' in parents and trashed=false\"\n",
        "    results = drive_service.files().list(q=query, fields=\"files(id, name)\").execute()\n",
        "    archivos = results.get('files', [])\n",
        "\n",
        "    # Devolver el ID del archivo si se encuentra\n",
        "    if archivos:\n",
        "        return archivos[0]['id']  # Retorna el ID del primer archivo encontrado\n",
        "    else:\n",
        "        return \"Archivo no encontrado.\"\n",
        "\n",
        "def obtener_id_carpeta(ruta_carpeta):\n",
        "    # Obtener el nombre de la carpeta\n",
        "    nombre_carpeta = os.path.basename(ruta_carpeta)\n",
        "\n",
        "    # Realizar la búsqueda de la carpeta\n",
        "    query = f\"name='{nombre_carpeta}' and mimeType='application/vnd.google-apps.folder' and trashed=false\"\n",
        "    results = drive_service.files().list(q=query, fields=\"files(id)\").execute()\n",
        "    carpetas = results.get('files', [])\n",
        "\n",
        "    # Retornar el ID de la primera carpeta encontrada\n",
        "    if carpetas:\n",
        "        return carpetas[0]['id']\n",
        "    else:\n",
        "        return None  # Retorna None si no se encuentra la carpeta\n",
        "\n",
        "# Usar la función\n",
        "ruta_archivo = os.path.join(ruta_destino, nuevo_nombre)  # Ruta completa del archivo en Google Drive\n",
        "\n",
        "id_archivo = obtener_id_archivo(ruta_archivo)\n",
        "\n",
        "print(\"ID del archivo:\", id_archivo)\n",
        "\n",
        "# Generar el enlace compartido\n",
        "link = f\"https://drive.google.com/file/d/{id_archivo}/view?usp=sharing\"\n",
        "\n",
        "print(\"Enlace compartible:\", link)\n",
        "\n",
        "legajo['URL del PDF original'] = link"
      ],
      "metadata": {
        "id": "NHtqcsVUE7mj",
        "colab": {
          "base_uri": "https://localhost:8080/"
        },
        "outputId": "7a0646f7-0c8a-40b8-c349-644cb571a66a"
      },
      "execution_count": null,
      "outputs": [
        {
          "output_type": "stream",
          "name": "stdout",
          "text": [
            "ID del archivo: 14ErgQ7qywnEtlD-rEf0IVzcc7m-2h_Ed\n",
            "Enlace compartible: https://drive.google.com/file/d/14ErgQ7qywnEtlD-rEf0IVzcc7m-2h_Ed/view?usp=sharing\n"
          ]
        }
      ]
    },
    {
      "cell_type": "markdown",
      "source": [
        "# Guardar en BD legajos"
      ],
      "metadata": {
        "id": "2ba8tb7rAsM0"
      }
    },
    {
      "cell_type": "code",
      "source": [
        "import gspread\n",
        "from oauth2client.service_account import ServiceAccountCredentials\n",
        "\n",
        "\n",
        "# Abre la hoja de cálculo y selecciona la hoja 'DB'\n",
        "spreadsheet_name = 'Legajos de maquinarias'\n",
        "sheet_name = 'DB'\n",
        "\n",
        "try:\n",
        "    sheet = client.open(spreadsheet_name).worksheet(sheet_name)\n",
        "except gspread.WorksheetNotFound:\n",
        "    print(f\"La hoja '{sheet_name}' no fue encontrada en '{spreadsheet_name}'.\")\n",
        "\n",
        "# Definir encabezados\n",
        "encabezados = [\"Número de Serie\", \"Modelo\", \"Fecha de Prueba\", \"URL del PDF original\"]\n",
        "\n",
        "# Reemplazar la primera fila con los encabezados\n",
        "sheet.update('A1:D1', [encabezados])\n",
        "\n",
        "# Añadir el contenido del diccionario a la hoja\n",
        "row = [legajo[\"Número de Serie\"], legajo[\"Modelo\"], legajo[\"Fecha de Prueba\"], legajo[\"URL del PDF original\"]]\n",
        "sheet.append_row(row)\n",
        "\n",
        "print(\"Datos guardados en Google Sheets.\")\n"
      ],
      "metadata": {
        "id": "40mUqty1AzOk",
        "colab": {
          "base_uri": "https://localhost:8080/"
        },
        "outputId": "2d15756c-f309-4d95-8023-59c96cd6b12d"
      },
      "execution_count": null,
      "outputs": [
        {
          "output_type": "stream",
          "name": "stderr",
          "text": [
            "<ipython-input-51-759f2e64609e>:18: DeprecationWarning: The order of arguments in worksheet.update() has changed. Please pass values first and range_name secondor used named arguments (range_name=, values=)\n",
            "  sheet.update('A1:D1', [encabezados])\n"
          ]
        },
        {
          "output_type": "stream",
          "name": "stdout",
          "text": [
            "Datos guardados en Google Sheets.\n"
          ]
        }
      ]
    }
  ],
  "metadata": {
    "colab": {
      "collapsed_sections": [
        "WT29-KDSIHGF",
        "KY5W8oVUk_Rg",
        "TUhQNd_picd9",
        "rzqQqaerioWw",
        "BZrkaocUfAIa",
        "YSxTSnKXLc0Q",
        "pKEl5GBRJ5lM",
        "JWkn8GPNvRzL",
        "GC7fLKnW2nxq",
        "y1kp85bX9BFn",
        "2ba8tb7rAsM0"
      ],
      "provenance": [],
      "include_colab_link": true
    },
    "kernelspec": {
      "display_name": "Python 3",
      "name": "python3"
    },
    "language_info": {
      "name": "python"
    }
  },
  "nbformat": 4,
  "nbformat_minor": 0
}